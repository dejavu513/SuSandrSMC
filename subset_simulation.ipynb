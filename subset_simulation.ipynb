{
 "cells": [
  {
   "cell_type": "code",
   "execution_count": 341,
   "id": "18c01df6",
   "metadata": {},
   "outputs": [],
   "source": [
    "import numpy as np\n",
    "from scipy.stats import norm\n",
    "d = 2 #1000 #dimension of the input space \n",
    "YF = 9 #200 #critical threshold (gx>=YF)\n",
    "pF = 1 - norm.cdf(YF/np.sqrt(d)) #true value of the failure proability\n",
    "n = 1000 #3000 #number of samples per level\n",
    "p = 0.1 #level probability\n",
    "nc = int(n*p) #number of Markov chains\n",
    "ns = int((1-p)/p) #number of states in each chain"
   ]
  },
  {
   "cell_type": "code",
   "execution_count": 342,
   "id": "71c04af8",
   "metadata": {},
   "outputs": [],
   "source": [
    "L = 0 # zero level\n",
    "Lmax = 100 # define the possible maximum of number of levels\n",
    "X = np.zeros((n,d,Lmax)) #samples for different levels\n",
    "x = np.random.randn(n,d) # Monte Carlo samples(initial samples)\n",
    "X[:,:,0] = x ### samples for zero level\n",
    "nF = np.zeros(Lmax) # number of failure samples\n",
    "y = np.zeros((Lmax,n)) # responses\n",
    "z = np.zeros((nc,d,ns+1)) # seeds\n",
    "Y = np.zeros(Lmax)\n",
    "q = np.zeros(d)## potential next state in Markov chain?\n"
   ]
  },
  {
   "cell_type": "code",
   "execution_count": 344,
   "id": "52214e27",
   "metadata": {
    "scrolled": true
   },
   "outputs": [],
   "source": [
    "for i in range(1, n+1):\n",
    "    y[0,i-1] = sum(x[i-1,:]) #zero level response\n",
    "    if y[0,i-1]>YF: # whether it falls in failure domain\n",
    "        nF[0]=nF[0]+1"
   ]
  },
  {
   "cell_type": "code",
   "execution_count": 345,
   "id": "fa70ee62",
   "metadata": {
    "scrolled": false
   },
   "outputs": [],
   "source": [
    "while (nF[L]/n)<p: # stopping criterion\n",
    "    L=L+1 # next conditional level is needed\n",
    "    w = -y[L-1,:]\n",
    "    ind = sorted(range(len(w)), key=lambda k: w[k])# original index of descending responses\n",
    "    y[L-1,:] = y[L-1,ind] #renumbered responses\n",
    "    X[:,:, L-1] = X[ind,:,L-1] # renumbered samples\n",
    "    Y[L-1] = (y[L-1,nc-1]+y[L-1,nc])/2 #L^th intermediate threshold\n",
    "    z[:,:,0] = X[range(0,nc),:, L-1] # seeds of Markov chain\n",
    "    ###modified metropolis\n",
    "    for j in range(1,nc+1):\n",
    "        for m in range(1,ns+1):\n",
    "            ### step 1\n",
    "            for k in range(1,d+1):\n",
    "                a = z[j-1,k-1,m-1]+np.random.randn(1)\n",
    "                r = min(1, norm.pdf(a)/norm.pdf(z[j-1,k-1,m-1]))\n",
    "                if np.random.rand(1)<r:\n",
    "                    q[k-1]=a\n",
    "                else:\n",
    "                    q[k-1]=z[j-1,k-1,m-1]\n",
    "            ###step 2 q belongs to F_L or not\n",
    "            if sum(q)>Y[L-1]:\n",
    "                z[j-1,:,m]=q\n",
    "            else:\n",
    "                z[j-1,:,m]=z[j-1,:,m-1]\n",
    "    for j in range(1,nc+1):\n",
    "        for m in range(1,ns+2):\n",
    "            X[(j-1)*(ns+1)+m-1,:,L]=z[j-1,:,m-1]\n",
    "    z = np.zeros((nc,d,ns+1))\n",
    "    nF[L] = 0\n",
    "    for i in range(1,n+1):\n",
    "        y[L, i-1] = sum(X[i-1,:,L]) ##responses\n",
    "        if y[L,i-1]>YF:\n",
    "            nF[L]=nF[L]+1\n"
   ]
  },
  {
   "cell_type": "code",
   "execution_count": 346,
   "id": "8dc8fae2",
   "metadata": {},
   "outputs": [],
   "source": [
    "pF_SS = (p**(L))*(nF[L])/n\n",
    "N=n+n*(1-p)*(L)"
   ]
  }
 ],
 "metadata": {
  "kernelspec": {
   "display_name": "Python 3 (ipykernel)",
   "language": "python",
   "name": "python3"
  },
  "language_info": {
   "codemirror_mode": {
    "name": "ipython",
    "version": 3
   },
   "file_extension": ".py",
   "mimetype": "text/x-python",
   "name": "python",
   "nbconvert_exporter": "python",
   "pygments_lexer": "ipython3",
   "version": "3.10.6"
  }
 },
 "nbformat": 4,
 "nbformat_minor": 5
}
